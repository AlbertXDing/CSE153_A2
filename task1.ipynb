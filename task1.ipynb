{
 "cells": [
  {
   "cell_type": "code",
   "execution_count": 29,
   "id": "cb2371d7",
   "metadata": {},
   "outputs": [],
   "source": [
    "import os\n",
    "import torch\n",
    "import torchaudio\n",
    "from torch.utils.data import Dataset, DataLoader, random_split\n",
    "import torch.nn as nn\n",
    "import torch.nn.functional as F\n",
    "from torchaudio.transforms import MelSpectrogram, AmplitudeToDB\n",
    "from tqdm import tqdm\n",
    "import librosa\n",
    "import numpy as np\n",
    "import miditoolkit\n",
    "from sklearn.linear_model import LogisticRegression\n",
    "from sklearn.metrics import f1_score, average_precision_score, accuracy_score\n",
    "import random\n",
    "import pretty_midi\n",
    "\n",
    "from symusic import Score\n",
    "from miditok import REMI, TokenizerConfig\n",
    "from midiutil import MIDIFile\n",
    "from glob import glob\n",
    "# used chatgpt to help me generate some functions"
   ]
  },
  {
   "cell_type": "code",
   "execution_count": 30,
   "id": "4f95f32c",
   "metadata": {},
   "outputs": [
    {
     "name": "stdout",
     "output_type": "stream",
     "text": [
      "2000\n",
      "\n",
      "\n",
      "\n"
     ]
    }
   ],
   "source": [
    "# Processing the midi files\n",
    "midi_files = glob('nes_midis/*')\n",
    "print(len(midi_files))\n",
    "\n",
    "config = TokenizerConfig(num_velocities=1)\n",
    "tokenizer = REMI(config)\n",
    "tokenizer.train(vocab_size = 2000, files_paths=midi_files)\n"
   ]
  },
  {
   "cell_type": "code",
   "execution_count": 31,
   "id": "68842677",
   "metadata": {},
   "outputs": [
    {
     "name": "stdout",
     "output_type": "stream",
     "text": [
      "{'Kalimba': 8, 'Marimba': 57, 'Music Box': 53, 'Drawbar Organ': 241, 'Orchestra Hit': 60, 'String Ensemble 1': 860, 'Choir Aahs': 124, 'Distortion Guitar': 238, 'Electric Bass (pick)': 201, 'Lead 8 (bass + lead)': 139, 'FX 5 (brightness)': 52, 'FX 3 (crystal)': 36, 'Trumpet': 214, 'String Ensemble 2': 175, 'Timpani': 100, 'Tremolo Strings': 124, 'Acoustic Guitar (nylon)': 187, 'Alto Sax': 67, 'Electric Bass (finger)': 408, 'Acoustic Grand Piano': 1613, 'FX 8 (sci-fi)': 25, 'Viola': 42, 'Reverse Cymbal': 17, 'Pad 1 (new age)': 52, 'Synth Strings 1': 103, 'Synth Strings 2': 32, 'Harpsichord': 152, 'Synth Bass 1': 131, 'Tubular Bells': 54, 'Lead 1 (square)': 947, 'Synth Bass 2': 114, 'Lead 2 (sawtooth)': 530, 'Lead 5 (charang)': 68, 'Clavinet': 115, 'Electric Guitar (clean)': 77, 'Synth Brass 1': 123, 'Pad 3 (polysynth)': 66, 'Electric Piano 1': 107, 'Flute': 176, 'Clarinet': 216, 'Pad 2 (warm)': 30, 'Gunshot': 34, 'Pan Flute': 32, 'Pizzicato Strings': 114, 'Acoustic Guitar (steel)': 164, 'Violin': 115, 'Church Organ': 84, 'Tenor Sax': 40, 'Acoustic Bass': 253, 'Lead 3 (calliope)': 34, 'Bright Acoustic Piano': 149, 'Oboe': 115, 'Shakuhachi': 22, 'Overdriven Guitar': 213, 'Celesta': 110, 'Electric Guitar (jazz)': 124, 'Brass Section': 185, 'Fretless Bass': 168, 'Dulcimer': 26, 'Melodic Tom': 26, 'Contrabass': 195, 'Electric Grand Piano': 95, 'Shamisen': 18, 'Synth Drum': 38, 'English Horn': 33, 'Accordion': 14, 'Synth Brass 2': 28, 'FX 4 (atmosphere)': 88, 'Rock Organ': 43, 'Orchestral Harp': 205, 'Agogo': 4, 'FX 2 (soundtrack)': 5, 'Ocarina': 75, 'French Horn': 106, 'Slap Bass 2': 74, 'Taiko Drum': 10, 'Slap Bass 1': 112, 'Xylophone': 28, 'Reed Organ': 18, 'Trombone': 100, 'FX 1 (rain)': 30, 'FX 7 (echoes)': 30, 'Vibraphone': 91, 'Recorder': 55, 'Soprano Sax': 15, 'Lead 4 chiff': 20, 'Sitar': 9, 'Piccolo': 65, 'Lead 6 (voice)': 14, 'Bassoon': 39, 'Seashore': 8, 'Muted Trumpet': 12, 'Fiddle': 10, 'Banjo': 16, 'Honky-tonk Piano': 61, 'Shanai': 11, 'Pad 6 (metallic)': 19, 'Tuba': 70, 'Percussive Organ': 30, 'Cello': 70, 'Electric Piano 2': 55, 'FX 6 (goblins)': 6, 'Koto': 35, 'Woodblock': 3, 'Tinkle Bell': 11, 'Voice Oohs': 17, 'Glockenspiel': 33, 'Pad 7 (halo)': 19, 'Electric Guitar (muted)': 67, 'Harmonica': 22, 'Guitar Fret Noise': 4, 'Pad 5 (bowed)': 17, 'Applause': 36, 'Pad 4 (choir)': 28, 'Steel Drums': 16, 'Guitar Harmonics': 15, 'Pad 8 (sweep)': 8, 'Bird Tweet': 6, 'Blown bottle': 6, 'Synth Choir': 20, 'Bagpipe': 8, 'Baritone Sax': 19, 'Tango Accordion': 5, 'Lead 7 (fifths)': 1, 'Telephone Ring': 2, 'Whistle': 16, 'Breath Noise': 3, 'Helicopter': 1}\n"
     ]
    }
   ],
   "source": [
    "instruments = {}\n",
    "bad_files = []\n",
    "\n",
    "for file in midi_files:\n",
    "    try:\n",
    "        midi = pretty_midi.PrettyMIDI(file)\n",
    "        for instrument in midi.instruments:\n",
    "            name = pretty_midi.program_to_instrument_name(instrument.program)\n",
    "            instruments[name] = instruments.get(name, 0) + 1\n",
    "    except Exception as e:\n",
    "        bad_files.append(file)\n",
    "\n",
    "print(instruments)\n"
   ]
  }
 ],
 "metadata": {
  "kernelspec": {
   "display_name": "venv",
   "language": "python",
   "name": "python3"
  },
  "language_info": {
   "codemirror_mode": {
    "name": "ipython",
    "version": 3
   },
   "file_extension": ".py",
   "mimetype": "text/x-python",
   "name": "python",
   "nbconvert_exporter": "python",
   "pygments_lexer": "ipython3",
   "version": "3.13.1"
  }
 },
 "nbformat": 4,
 "nbformat_minor": 5
}
