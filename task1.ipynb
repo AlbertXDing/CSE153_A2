{
 "cells": [
  {
   "cell_type": "code",
   "execution_count": 1,
   "id": "cb2371d7",
   "metadata": {},
   "outputs": [
    {
     "name": "stderr",
     "output_type": "stream",
     "text": [
      "c:\\Users\\leeku\\Desktop\\Coding\\CSE153_A2\\venv\\Lib\\site-packages\\pretty_midi\\instrument.py:11: UserWarning: pkg_resources is deprecated as an API. See https://setuptools.pypa.io/en/latest/pkg_resources.html. The pkg_resources package is slated for removal as early as 2025-11-30. Refrain from using this package or pin to Setuptools<81.\n",
      "  import pkg_resources\n"
     ]
    }
   ],
   "source": [
    "import os\n",
    "import torch\n",
    "import torchaudio\n",
    "from torch.utils.data import Dataset, DataLoader, random_split, TensorDataset\n",
    "import torch.nn as nn\n",
    "import torch.nn.functional as F\n",
    "from torchaudio.transforms import MelSpectrogram, AmplitudeToDB\n",
    "from tqdm import tqdm\n",
    "import librosa\n",
    "import numpy as np\n",
    "import miditoolkit\n",
    "from sklearn.linear_model import LogisticRegression\n",
    "from sklearn.metrics import f1_score, average_precision_score, accuracy_score\n",
    "import random\n",
    "import pretty_midi\n",
    "import math\n",
    "from symusic import Score\n",
    "from miditok import REMI, TokenizerConfig\n",
    "from midiutil import MIDIFile\n",
    "from glob import glob\n",
    "import matplotlib.pyplot as plt\n",
    "# used chatgpt to help me generate some functions"
   ]
  },
  {
   "cell_type": "code",
   "execution_count": 2,
   "id": "4f95f32c",
   "metadata": {},
   "outputs": [
    {
     "name": "stdout",
     "output_type": "stream",
     "text": [
      "2000\n"
     ]
    }
   ],
   "source": [
    "# Processing the midi files\n",
    "midi_files = glob('nes_midis/*')\n",
    "print(len(midi_files))\n",
    "\n",
    "#Training the tokenizer\n",
    "config = TokenizerConfig(num_velocities=1)\n",
    "tokenizer = REMI(config)\n",
    "tokenizer.train(vocab_size = 2000, files_paths=midi_files)\n"
   ]
  },
  {
   "cell_type": "code",
   "execution_count": 3,
   "id": "68842677",
   "metadata": {},
   "outputs": [
    {
     "name": "stderr",
     "output_type": "stream",
     "text": [
      "c:\\Users\\leeku\\Desktop\\Coding\\CSE153_A2\\venv\\Lib\\site-packages\\pretty_midi\\pretty_midi.py:100: RuntimeWarning: Tempo, Key or Time signature change events found on non-zero tracks.  This is not a valid type 0 or type 1 MIDI file.  Tempo, Key or Time Signature may be wrong.\n",
      "  warnings.warn(\n"
     ]
    }
   ],
   "source": [
    "instruments = {}\n",
    "bad_files = []\n",
    "\n",
    "# Processing the files and making sure midi_files doesn't include any corrupt files\n",
    "for file in midi_files:\n",
    "    try:\n",
    "        midi = pretty_midi.PrettyMIDI(file)\n",
    "        for instrument in midi.instruments:\n",
    "            name = pretty_midi.program_to_instrument_name(instrument.program)\n",
    "            instruments[name] = instruments.get(name, 0) + 1\n",
    "    except Exception as e:\n",
    "        bad_files.append(file)\n",
    "\n",
    "sorted_instruments = sorted(instruments.items(), key=lambda x: x[1], reverse=True)\n",
    "midi_files = [file for file in midi_files if file not in bad_files]\n"
   ]
  },
  {
   "cell_type": "code",
   "execution_count": 4,
   "id": "3c6fc981",
   "metadata": {},
   "outputs": [],
   "source": [
    "\n",
    "\n",
    "# extracts only the notes where the instruments are useful\n",
    "def extract_note_sequence(midi_path):\n",
    "    midi = pretty_midi.PrettyMIDI(midi_path)\n",
    "    notes = []\n",
    "    for instrument in midi.instruments:\n",
    "        if not instrument.is_drum:\n",
    "            notes += [note.pitch for note in instrument.notes]\n",
    "    return notes\n",
    "\n",
    "#extract_notes(midi_files[1])"
   ]
  },
  {
   "cell_type": "code",
   "execution_count": 5,
   "id": "8bc855d3",
   "metadata": {},
   "outputs": [],
   "source": [
    "#processing all the notes for in each midi_file\n",
    "class MIDIDataset(Dataset):\n",
    "    def __init__(self, midi_dir, vocab, seq_len=128):\n",
    "        self.data = []\n",
    "        self.vocab = vocab\n",
    "        self.seq_len = seq_len\n",
    "        self.pitch2idx = {p: i for i, p in enumerate(vocab)}\n",
    "\n",
    "        for file in midi_dir:\n",
    "            #print(f\"Processing file: {file}\")\n",
    "            notes = extract_note_sequence(file)\n",
    "            encoded = [self.pitch2idx[n] for n in notes if n in self.pitch2idx]\n",
    "\n",
    "            for i in range(0, len(encoded) - seq_len):\n",
    "                x = encoded[i:i + seq_len]\n",
    "                y = encoded[i+seq_len]\n",
    "                self.data.append((torch.tensor(x), torch.tensor(y)))\n",
    "\n",
    "    def __len__(self):\n",
    "        return len(self.data)\n",
    "\n",
    "    def __getitem__(self, idx):\n",
    "        return self.data[idx]\n",
    "\n"
   ]
  },
  {
   "cell_type": "code",
   "execution_count": 6,
   "id": "e2296235",
   "metadata": {},
   "outputs": [
    {
     "name": "stdout",
     "output_type": "stream",
     "text": [
      "Dataset size: 2693807\n"
     ]
    }
   ],
   "source": [
    "pitch_vocab = sorted(set(p for f in midi_files for p in extract_note_sequence(f)))\n",
    "pitch2idx = {p: i for i, p in enumerate(pitch_vocab)}\n",
    "idx2pitch = {i: p for i, p in enumerate(pitch_vocab)}\n",
    "# vocab = sorted(vocab)\n",
    "\n",
    "#Process the dataset with our pitch_vocab\n",
    "dataset = MIDIDataset(midi_dir=midi_files, vocab=pitch_vocab)\n",
    "print(f\"Dataset size: {len(dataset)}\") \n",
    "# loader = DataLoader(dataset[:1000], batch_size=32, shuffle=True, num_workers=0, pin_memory=True)\n"
   ]
  },
  {
   "cell_type": "code",
   "execution_count": 7,
   "id": "614c2057",
   "metadata": {},
   "outputs": [],
   "source": [
    "# LSTM \n",
    "class PitchLSTM(nn.Module):\n",
    "    def __init__(self, vocab_size, embed_dim=128, hidden_dim=256, num_layers=2):\n",
    "        super().__init__()\n",
    "        self.embed = nn.Embedding(vocab_size, embed_dim)\n",
    "        self.lstm = nn.LSTM(embed_dim, hidden_dim, num_layers, batch_first=True)\n",
    "        self.fc = nn.Linear(hidden_dim, vocab_size)\n",
    "\n",
    "    def forward(self, x, hidden=None):\n",
    "        x = self.embed(x)\n",
    "        out, hidden = self.lstm(x, hidden)\n",
    "        out = self.fc(out[:, -1, :])  # use the last output for prediction\n",
    "        return out, hidden\n"
   ]
  },
  {
   "cell_type": "code",
   "execution_count": 8,
   "id": "cd4abf87",
   "metadata": {},
   "outputs": [
    {
     "name": "stdout",
     "output_type": "stream",
     "text": [
      "Epoch 1 | Loss: 1.3038 | Perplexity: 5.69\n",
      "Epoch 2 | Loss: 1.3314 | Perplexity: 4.07\n",
      "Epoch 3 | Loss: 1.1230 | Perplexity: 3.78\n",
      "Epoch 4 | Loss: 1.2404 | Perplexity: 3.72\n",
      "Epoch 5 | Loss: 1.2240 | Perplexity: 3.72\n",
      "Epoch 6 | Loss: 1.5382 | Perplexity: 3.75\n",
      "Epoch 7 | Loss: 1.3340 | Perplexity: 3.79\n",
      "Epoch 8 | Loss: 1.3666 | Perplexity: 3.89\n",
      "Epoch 9 | Loss: 1.5786 | Perplexity: 3.98\n",
      "Epoch 10 | Loss: 1.9932 | Perplexity: 4.12\n",
      "Epoch 11 | Loss: 1.4990 | Perplexity: 4.34\n",
      "Epoch 12 | Loss: 1.9470 | Perplexity: 4.75\n"
     ]
    }
   ],
   "source": [
    "# Training the PitchLSTM and calcuating the avg loss and perplexity\n",
    "device = torch.device(\"cuda\" if torch.cuda.is_available() else \"cpu\")\n",
    "loader = DataLoader(dataset, batch_size=64, shuffle=True, num_workers=0, pin_memory=True)\n",
    "model = PitchLSTM(vocab_size=len(pitch_vocab))\n",
    "model.to(device)\n",
    "optimizer = torch.optim.Adam(model.parameters(), lr=0.001)\n",
    "criterion = nn.CrossEntropyLoss()\n",
    "\n",
    "losses = []\n",
    "perplexities = []\n",
    "for epoch in range(12):\n",
    "    total_loss = 0\n",
    "    num_batches = 0\n",
    "    for batch_x, batch_y in loader:\n",
    "        batch_x = batch_x.to(device)\n",
    "        batch_y = batch_y.to(device)\n",
    "\n",
    "        optimizer.zero_grad()\n",
    "        out, _ = model(batch_x)\n",
    "        loss = criterion(out, batch_y)\n",
    "        loss.backward()\n",
    "        optimizer.step()\n",
    "        total_loss += loss.item()\n",
    "        num_batches += 1\n",
    "    avg_loss = total_loss / num_batches\n",
    "    perplexity = math.exp(avg_loss)\n",
    "\n",
    "    losses.append(avg_loss)\n",
    "    perplexities.append(perplexity)\n",
    "\n",
    "    print(f\"Epoch {epoch + 1} | Loss: {loss.item():.4f} | Perplexity: {perplexity:.2f}\")\n",
    "\n",
    "\n",
    "\n",
    "\n"
   ]
  },
  {
   "cell_type": "code",
   "execution_count": 9,
   "id": "e2ec4230",
   "metadata": {},
   "outputs": [
    {
     "data": {
      "image/png": "[encoded data removed]",
      "text/plain": [
       "<Figure size 600x400 with 1 Axes>"
      ]
     },
     "metadata": {},
     "output_type": "display_data"
    }
   ],
   "source": [
    "# Plot 1: Perplexity over Epochs\n",
    "plt.figure(figsize=(6, 4))\n",
    "plt.plot(range(1, len(perplexities) + 1), perplexities, marker='o')\n",
    "plt.title(\"Perplexity over Epochs\")\n",
    "plt.xlabel(\"Epoch\")\n",
    "plt.ylabel(\"Perplexity\")\n",
    "plt.grid(True)\n",
    "plt.show()\n"
   ]
  },
  {
   "cell_type": "code",
   "execution_count": 10,
   "id": "d1af8915",
   "metadata": {},
   "outputs": [
    {
     "data": {
      "image/png": "[encoded data removed]",
      "text/plain": [
       "<Figure size 800x500 with 1 Axes>"
      ]
     },
     "metadata": {},
     "output_type": "display_data"
    }
   ],
   "source": [
    "# Plot 2: Cross-Entropy Loss and Perplexity over Steps (optional finer graph)\n",
    "plt.figure(figsize=(8, 5))\n",
    "plt.plot(losses, label=\"Cross-Entropy Loss\")\n",
    "plt.plot(perplexities, label=\"Perplexity\")\n",
    "plt.title(\"Training Loss and Perplexity over Epochs\")\n",
    "plt.xlabel(\"Epoch\")\n",
    "plt.ylabel(\"Value\")\n",
    "plt.legend()\n",
    "plt.grid(True)\n",
    "plt.show()\n"
   ]
  },
  {
   "cell_type": "code",
   "execution_count": 11,
   "id": "48c4ab69",
   "metadata": {},
   "outputs": [],
   "source": [
    "# Generates a sequence of token indices using a LSTM\n",
    "def generate_sequence(model, start_seq, length, device):\n",
    "    model.eval()\n",
    "    generated = start_seq[:]\n",
    "    input_seq = torch.tensor(start_seq, dtype=torch.long).unsqueeze(0).to(device)\n",
    "\n",
    "    hidden = None\n",
    "    for _ in range(length):\n",
    "        with torch.no_grad():\n",
    "            out, hidden = model(input_seq, hidden)\n",
    "            prob = torch.softmax(out, dim=-1)\n",
    "            next_token = torch.multinomial(prob, num_samples=1).item()\n",
    "\n",
    "        generated.append(next_token)\n",
    "        input_seq = torch.tensor(generated[-len(start_seq):], dtype=torch.long).unsqueeze(0).to(device)\n",
    "\n",
    "    return generated\n"
   ]
  },
  {
   "cell_type": "code",
   "execution_count": 12,
   "id": "bb9a34a4",
   "metadata": {},
   "outputs": [],
   "source": [
    "# Converts a sequence of pitch tokens into a MIDI file\n",
    "def sequence_to_midi(token_sequence, idx2pitch, output_path=\"generated.mid\", duration=0.5):\n",
    "    midi = pretty_midi.PrettyMIDI()\n",
    "    instrument = pretty_midi.Instrument(program=0)\n",
    "    time = 0\n",
    "\n",
    "    for token in token_sequence:\n",
    "        duration = random.choice([0.5, 0.75, 1.0])\n",
    "        pitch = idx2pitch[token]\n",
    "        note = pretty_midi.Note(velocity=100, pitch=pitch, start=time, end=time + duration)\n",
    "        instrument.notes.append(note)\n",
    "        time += duration\n",
    "\n",
    "    midi.instruments.append(instrument)\n",
    "    midi.write(output_path)\n"
   ]
  },
  {
   "cell_type": "code",
   "execution_count": 15,
   "id": "0fc077ca",
   "metadata": {},
   "outputs": [],
   "source": [
    "# 1. First random seed\n",
    "start_seq = [random.choice(range(len(pitch_vocab))) for _ in range(32)]\n",
    "first_part = generate_sequence(model, start_seq, length=200, device=device)\n",
    "\n",
    "# 2. Use last 32 tokens from the first as the new seed\n",
    "second_seed = first_part[-32:]\n",
    "second_part = generate_sequence(model, second_seed, length=200, device=device)\n",
    "\n",
    "# 3. Combine the two parts\n",
    "final_tokens = second_part\n",
    "\n",
    "# 4. Save as MIDI\n",
    "sequence_to_midi(final_tokens, idx2pitch, output_path=\"symbolic_unconditioned.mid\")\n"
   ]
  }
 ],
 "metadata": {
  "kernelspec": {
   "display_name": "venv",
   "language": "python",
   "name": "python3"
  },
  "language_info": {
   "codemirror_mode": {
    "name": "ipython",
    "version": 3
   },
   "file_extension": ".py",
   "mimetype": "text/x-python",
   "name": "python",
   "nbconvert_exporter": "python",
   "pygments_lexer": "ipython3",
   "version": "3.13.0"
  }
 },
 "nbformat": 4,
 "nbformat_minor": 5
}
