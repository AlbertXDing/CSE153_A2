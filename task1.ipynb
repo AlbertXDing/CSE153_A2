{
 "cells": [
  {
   "cell_type": "code",
   "execution_count": 1,
   "id": "cb2371d7",
   "metadata": {},
   "outputs": [
    {
     "name": "stderr",
     "output_type": "stream",
     "text": [
      "/Users/kjlee/Desktop/main/coding/CSE153_A2/venv/lib/python3.13/site-packages/pretty_midi/instrument.py:11: UserWarning: pkg_resources is deprecated as an API. See https://setuptools.pypa.io/en/latest/pkg_resources.html. The pkg_resources package is slated for removal as early as 2025-11-30. Refrain from using this package or pin to Setuptools<81.\n",
      "  import pkg_resources\n",
      "/Users/kjlee/Desktop/main/coding/CSE153_A2/venv/lib/python3.13/site-packages/tqdm/auto.py:21: TqdmWarning: IProgress not found. Please update jupyter and ipywidgets. See https://ipywidgets.readthedocs.io/en/stable/user_install.html\n",
      "  from .autonotebook import tqdm as notebook_tqdm\n"
     ]
    }
   ],
   "source": [
    "import os\n",
    "import torch\n",
    "import torchaudio\n",
    "from torch.utils.data import Dataset, DataLoader, random_split\n",
    "import torch.nn as nn\n",
    "import torch.nn.functional as F\n",
    "from torchaudio.transforms import MelSpectrogram, AmplitudeToDB\n",
    "from tqdm import tqdm\n",
    "import librosa\n",
    "import numpy as np\n",
    "import miditoolkit\n",
    "from sklearn.linear_model import LogisticRegression\n",
    "from sklearn.metrics import f1_score, average_precision_score, accuracy_score\n",
    "import random\n",
    "import pretty_midi\n",
    "\n",
    "from symusic import Score\n",
    "from miditok import REMI, TokenizerConfig\n",
    "from midiutil import MIDIFile\n",
    "from glob import glob"
   ]
  },
  {
   "cell_type": "code",
   "execution_count": 4,
   "id": "4f95f32c",
   "metadata": {},
   "outputs": [
    {
     "name": "stdout",
     "output_type": "stream",
     "text": [
      "2000\n",
      "\n",
      "\n",
      "\n"
     ]
    }
   ],
   "source": [
    "# Processing the midi files\n",
    "midi_files = glob('nes_midis/*')\n",
    "print(len(midi_files))\n",
    "\n",
    "config = TokenizerConfig(num_velocities=1)\n",
    "tokenizer = REMI(config)\n",
    "tokenizer.train(vocab_size = 2000, files_paths=midi_files)"
   ]
  },
  {
   "cell_type": "code",
   "execution_count": 23,
   "id": "68842677",
   "metadata": {},
   "outputs": [
    {
     "name": "stdout",
     "output_type": "stream",
     "text": [
      "Pan Flute\n",
      "Pizzicato Strings\n",
      "Acoustic Grand Piano\n",
      "Acoustic Grand Piano\n"
     ]
    }
   ],
   "source": [
    "midi = pretty_midi.PrettyMIDI(midi_files[9])\n",
    "for instrument in midi.instruments:\n",
    "    print(pretty_midi.program_to_instrument_name(instrument.program))"
   ]
  }
 ],
 "metadata": {
  "kernelspec": {
   "display_name": "venv",
   "language": "python",
   "name": "python3"
  },
  "language_info": {
   "codemirror_mode": {
    "name": "ipython",
    "version": 3
   },
   "file_extension": ".py",
   "mimetype": "text/x-python",
   "name": "python",
   "nbconvert_exporter": "python",
   "pygments_lexer": "ipython3",
   "version": "3.13.1"
  }
 },
 "nbformat": 4,
 "nbformat_minor": 5
}
